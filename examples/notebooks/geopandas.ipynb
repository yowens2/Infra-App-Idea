{
  "cells": [
    {
      "cell_type": "markdown",
      "metadata": {
        "id": "view-in-github",
        "colab_type": "text"
      },
      "source": [
        "<a href=\"https://colab.research.google.com/github/yowens2/common/blob/main/examples/notebooks/geopandas.ipynb\" target=\"_parent\"><img src=\"https://colab.research.google.com/assets/colab-badge.svg\" alt=\"Open In Colab\"/></a>"
      ]
    },
    {
      "cell_type": "markdown",
      "metadata": {
        "id": "TfT2gcLbhhiy"
      },
      "source": [
        "<a href=\"https://githubtocolab.com/giswqs/geemap/blob/master/examples/notebooks/geopandas.ipynb\" target=\"_parent\"><img src=\"https://colab.research.google.com/assets/colab-badge.svg\" alt=\"Open in Colab\"/></a>\n",
        "\n",
        "Uncomment the following line to install [geemap](https://geemap.org) if needed."
      ]
    },
    {
      "cell_type": "markdown",
      "source": [
        "\n",
        "# **The Benefit of using Map Data, to Enahnce SAP Data**\n",
        "\n",
        "💦With the use of Python on the boom being adopted, in the Analaytics Acadmey, Telling Stories through Data is even more important to insure, that the data we provide is relatable and beliavble. \n",
        "\n",
        "By using Python (Geemaps) you are able to leverage the analytical capability of map data, stored in various formats, sh, json, geojson to list a few.\n",
        "\n",
        "This is my journey in understanding geo spatial data, and linking it to our Asset Base, by using various analytical techniques. To give a user a visual representation of the region we serve enviromental and social prosperity.\n",
        "💦\n"
      ],
      "metadata": {
        "id": "AV8c5anLE7xA"
      }
    },
    {
      "cell_type": "code",
      "execution_count": null,
      "metadata": {
        "id": "tqimJShIhhiz"
      },
      "outputs": [],
      "source": [
        "# !pip install geemap"
      ]
    },
    {
      "cell_type": "code",
      "execution_count": null,
      "metadata": {
        "id": "0u3Meg0Ahhi0"
      },
      "outputs": [],
      "source": [
        "import os\n",
        "import geemap\n",
        "import pandas as pd\n",
        "import geopandas as gpd"
      ]
    },
    {
      "cell_type": "code",
      "execution_count": null,
      "metadata": {
        "id": "d29Qj1eRhhi0"
      },
      "outputs": [],
      "source": [
        "# geemap.update_package()"
      ]
    },
    {
      "cell_type": "markdown",
      "metadata": {
        "id": "9zG-vzhBhhi0"
      },
      "source": [
        "## Create an interactive map"
      ]
    },
    {
      "cell_type": "code",
      "execution_count": null,
      "metadata": {
        "id": "J6lcI9Jbhhi0"
      },
      "outputs": [],
      "source": [
        "Map = geemap.Map()\n",
        "Map"
      ]
    },
    {
      "cell_type": "markdown",
      "metadata": {
        "id": "Yz2PFbwchhi1"
      },
      "source": [
        "## Convert ee.FeatureCollection to Pandas DataFrame"
      ]
    },
    {
      "cell_type": "code",
      "execution_count": null,
      "metadata": {
        "id": "0E8VBUSEhhi1"
      },
      "outputs": [],
      "source": [
        "countries_shp = '../data/countries.shp'\n",
        "countries = geemap.shp_to_ee(countries_shp)\n",
        "Map.addLayer(countries, {}, 'Countries')"
      ]
    },
    {
      "cell_type": "code",
      "execution_count": null,
      "metadata": {
        "id": "yNSYjT4ihhi1"
      },
      "outputs": [],
      "source": [
        "df = geemap.ee_to_pandas(countries, selectors=['id', 'name'])\n",
        "df.head()"
      ]
    },
    {
      "cell_type": "markdown",
      "metadata": {
        "id": "xbkBt0yOhhi1"
      },
      "source": [
        "## Convert ee.FeatureCollection to GeoPandas GeoDataFrame"
      ]
    },
    {
      "cell_type": "code",
      "execution_count": null,
      "metadata": {
        "id": "aDk5ZJ5Hhhi1"
      },
      "outputs": [],
      "source": [
        "gdf = geemap.ee_to_geopandas(countries, selectors=['id', 'name'])\n",
        "gdf.head()"
      ]
    },
    {
      "cell_type": "markdown",
      "metadata": {
        "id": "Ofpbec5Dhhi1"
      },
      "source": [
        "## Convert Pandas DataFrame to ee.FeatureCollection"
      ]
    },
    {
      "cell_type": "code",
      "execution_count": null,
      "metadata": {
        "id": "LILfdaKMhhi2"
      },
      "outputs": [],
      "source": [
        "in_csv = 'https://raw.githubusercontent.com/giswqs/data/main/world/world_cities.csv'"
      ]
    },
    {
      "cell_type": "code",
      "execution_count": null,
      "metadata": {
        "id": "RbgPdJgvhhi2"
      },
      "outputs": [],
      "source": [
        "df = pd.read_csv(in_csv)\n",
        "df.head()"
      ]
    },
    {
      "cell_type": "code",
      "execution_count": null,
      "metadata": {
        "id": "PC2LASiUhhi2"
      },
      "outputs": [],
      "source": [
        "fc = geemap.pandas_to_ee(df, latitude=\"latitude\", longitude=\"longitude\")"
      ]
    },
    {
      "cell_type": "code",
      "execution_count": null,
      "metadata": {
        "id": "9XpbUxkihhi2"
      },
      "outputs": [],
      "source": [
        "Map.addLayer(fc, {}, \"pandas to ee\")\n",
        "Map"
      ]
    },
    {
      "cell_type": "markdown",
      "metadata": {
        "id": "PHkQv_9thhi2"
      },
      "source": [
        "## Convert GeoPandas GeoDataFrame to ee.FeatureCollection"
      ]
    },
    {
      "cell_type": "code",
      "execution_count": null,
      "metadata": {
        "id": "2a0LngNQhhi2"
      },
      "outputs": [],
      "source": [
        "gdf = gpd.read_file(\n",
        "    \"https://raw.githubusercontent.com/giswqs/data/main/us/us_states.geojson\"\n",
        ")\n",
        "gdf.head()"
      ]
    },
    {
      "cell_type": "code",
      "execution_count": null,
      "metadata": {
        "id": "ealNhhYehhi2"
      },
      "outputs": [],
      "source": [
        "fc = geemap.geopandas_to_ee(gdf)"
      ]
    },
    {
      "cell_type": "code",
      "execution_count": null,
      "metadata": {
        "id": "9RARD834hhi3"
      },
      "outputs": [],
      "source": [
        "Map.addLayer(fc, {}, \"geopandas to ee\")\n",
        "Map"
      ]
    }
  ],
  "metadata": {
    "hide_input": false,
    "kernelspec": {
      "display_name": "Python 3",
      "language": "python",
      "name": "python3"
    },
    "language_info": {
      "codemirror_mode": {
        "name": "ipython",
        "version": 3
      },
      "file_extension": ".py",
      "mimetype": "text/x-python",
      "name": "python",
      "nbconvert_exporter": "python",
      "pygments_lexer": "ipython3",
      "version": "3.8.5"
    },
    "toc": {
      "base_numbering": 1,
      "nav_menu": {},
      "number_sections": true,
      "sideBar": true,
      "skip_h1_title": true,
      "title_cell": "Table of Contents",
      "title_sidebar": "Table of Contents",
      "toc_cell": false,
      "toc_position": {},
      "toc_section_display": true,
      "toc_window_display": true
    },
    "varInspector": {
      "cols": {
        "lenName": 16,
        "lenType": 16,
        "lenVar": 40
      },
      "kernels_config": {
        "python": {
          "delete_cmd_postfix": "",
          "delete_cmd_prefix": "del ",
          "library": "var_list.py",
          "varRefreshCmd": "print(var_dic_list())"
        },
        "r": {
          "delete_cmd_postfix": ") ",
          "delete_cmd_prefix": "rm(",
          "library": "var_list.r",
          "varRefreshCmd": "cat(var_dic_list()) "
        }
      },
      "types_to_exclude": [
        "module",
        "function",
        "builtin_function_or_method",
        "instance",
        "_Feature"
      ],
      "window_display": false
    },
    "colab": {
      "name": "geopandas.ipynb",
      "provenance": [],
      "include_colab_link": true
    }
  },
  "nbformat": 4,
  "nbformat_minor": 0
}